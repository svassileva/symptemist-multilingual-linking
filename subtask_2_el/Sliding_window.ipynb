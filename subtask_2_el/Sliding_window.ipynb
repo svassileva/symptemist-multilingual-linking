{
 "cells": [
  {
   "cell_type": "code",
   "execution_count": null,
   "id": "b9aeaa9a-e768-49ec-b549-6aa57f395187",
   "metadata": {},
   "outputs": [],
   "source": [
    "examples_to_assign_code_to = './examples_to_assign_code_with_model.tsv'\n",
    "output_path = 'output_path'"
   ]
  },
  {
   "cell_type": "code",
   "execution_count": null,
   "id": "19532f86-7e2a-44f9-814c-802987f698fb",
   "metadata": {},
   "outputs": [],
   "source": [
    "%%capture\n",
    "!pip install sentencepiece"
   ]
  },
  {
   "cell_type": "code",
   "execution_count": null,
   "id": "a0ac6012-5b45-4655-9a26-9a3c64c2710f",
   "metadata": {},
   "outputs": [],
   "source": [
    "import pandas as pd\n",
    "from transformers import AutoTokenizer"
   ]
  },
  {
   "cell_type": "code",
   "execution_count": null,
   "id": "30436b6b-1046-46bd-855b-d98c5a0058df",
   "metadata": {},
   "outputs": [],
   "source": [
    "tokenizer = AutoTokenizer.from_pretrained('cambridgeltl/SapBERT-UMLS-2020AB-all-lang-from-XLMR-large')"
   ]
  },
  {
   "cell_type": "code",
   "execution_count": null,
   "id": "5c6cda9e-bcef-477f-8fc4-b2837470afc5",
   "metadata": {},
   "outputs": [],
   "source": [
    "tokenizer.tokenize('a nivel analítico no presentaba alteración')"
   ]
  },
  {
   "cell_type": "code",
   "execution_count": null,
   "id": "36aa66a8-e073-49c4-8006-58b773ac5b72",
   "metadata": {},
   "outputs": [],
   "source": [
    "q_df = pd.read_csv(examples_to_assign_code_to, sep='\\t', encoding='utf8')"
   ]
  },
  {
   "cell_type": "code",
   "execution_count": null,
   "id": "dba26e20-4976-45bd-9279-1324207cd7a3",
   "metadata": {},
   "outputs": [],
   "source": [
    "def extract_75_percent_of_words(input_string):\n",
    "    if (len(input_string) < 20):\n",
    "        return input_string\n",
    "    \n",
    "    # Split the input string into words using whitespace as the delimiter\n",
    "    words = input_string.split()\n",
    "\n",
    "    # Calculate the number of words to extract (75% of the total words)\n",
    "    num_words_to_extract = max(int(len(words) * 0.75), 1)\n",
    "\n",
    "    # Take the first 75% of the words\n",
    "    selected_words = words[:num_words_to_extract]\n",
    "\n",
    "    # Join the selected words with whitespace to preserve the original formatting\n",
    "    result_string = ' '.join(selected_words)\n",
    "\n",
    "    return result_string"
   ]
  },
  {
   "cell_type": "code",
   "execution_count": null,
   "id": "673dfa39-0e13-4d0c-b5ff-dd24f1ec0d19",
   "metadata": {},
   "outputs": [],
   "source": [
    "def extract_last_75_percent_of_words(input_string):\n",
    "    if (len(input_string) < 20):\n",
    "        return input_string\n",
    "    \n",
    "    # Split the input string into words using whitespace as the delimiter\n",
    "    words = input_string.split()\n",
    "\n",
    "    # Calculate the number of words to extract (75% of the total words)\n",
    "    num_words_to_extract = max(int(len(words) * 0.75), 1)\n",
    "\n",
    "    # Take the last 75% of the words\n",
    "    selected_words = words[-num_words_to_extract:]\n",
    "\n",
    "    # Join the selected words with whitespace to preserve the original formatting\n",
    "    result_string = ' '.join(selected_words)\n",
    "\n",
    "    return result_string"
   ]
  },
  {
   "cell_type": "code",
   "execution_count": null,
   "id": "dc1937d7-d98f-4bcc-bf9a-890bb7606608",
   "metadata": {},
   "outputs": [],
   "source": [
    "q_df['first_75'] = q_df['text'].transform(extract_75_percent_of_words)"
   ]
  },
  {
   "cell_type": "code",
   "execution_count": null,
   "id": "4086bfd0-0d17-4a35-a670-fd8046fcacb8",
   "metadata": {},
   "outputs": [],
   "source": [
    "q_df['last_75'] = q_df['text'].transform(extract_last_75_percent_of_words)"
   ]
  },
  {
   "cell_type": "code",
   "execution_count": null,
   "id": "c6cc2c4d-3fd1-4ddf-9294-0616ed2306a0",
   "metadata": {},
   "outputs": [],
   "source": [
    "q_df['code'] = q_df['code'].transform(lambda v: 0)\n",
    "q_df[['code', 'first_75']].to_csv(f'{output_path}/test_first_75.tsv', sep='\\t', encoding='utf-8-sig', header=None, index=False)"
   ]
  },
  {
   "cell_type": "code",
   "execution_count": null,
   "id": "10a48b78-3451-4348-a0e6-ec8173dd3708",
   "metadata": {},
   "outputs": [],
   "source": [
    "q_df[['code', 'last_75']].to_csv(f'{output_path}/test_last_75.tsv', sep='\\t', encoding='utf-8-sig', header=None, index=False)"
   ]
  }
 ],
 "metadata": {
  "kernelspec": {
   "display_name": "Python 3 (ipykernel)",
   "language": "python",
   "name": "python3"
  },
  "language_info": {
   "codemirror_mode": {
    "name": "ipython",
    "version": 3
   },
   "file_extension": ".py",
   "mimetype": "text/x-python",
   "name": "python",
   "nbconvert_exporter": "python",
   "pygments_lexer": "ipython3",
   "version": "3.11.0"
  }
 },
 "nbformat": 4,
 "nbformat_minor": 5
}
