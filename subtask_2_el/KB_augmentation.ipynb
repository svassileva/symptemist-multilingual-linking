{
 "cells": [
  {
   "cell_type": "code",
   "execution_count": null,
   "id": "40d7e543-abb1-40ad-a4cd-bef459ef3969",
   "metadata": {},
   "outputs": [],
   "source": [
    "import pandas as pd"
   ]
  },
  {
   "cell_type": "code",
   "execution_count": null,
   "id": "175420c9-a759-4cf5-946f-7f069cb0453b",
   "metadata": {},
   "outputs": [],
   "source": [
    "gazetteer_df = pd.read_csv('./symptemist_gazetter_snomed_ES_v2.tsv', sep='\\t', encoding='utf8')"
   ]
  },
  {
   "cell_type": "code",
   "execution_count": null,
   "id": "79cf0f26-3020-4509-9b0d-a032b2eeb64e",
   "metadata": {},
   "outputs": [],
   "source": [
    "codes_df = gazetteer_df['code'].value_counts()\n",
    "codes_to_augment = list(map(str, list(codes_df[codes_df < 5].index)))"
   ]
  },
  {
   "cell_type": "code",
   "execution_count": null,
   "id": "f09f5883-e5a7-44ab-9b7e-229e08418df3",
   "metadata": {},
   "outputs": [],
   "source": [
    "import random\n",
    "\n",
    "def modify_string(input_string, add_prob=0.3, remove_prob=0.3, max_replace_ratio=None):\n",
    "    result = list(input_string)\n",
    "    \n",
    "    # Define the set of characters that can be added\n",
    "    spanish_characters = \"abcdefghijklmnopqrstuvwxyzáéíóúñü\"\n",
    "    \n",
    "    if max_replace_ratio is not None:\n",
    "        max_replace = int(len(result) * max_replace_ratio)\n",
    "    else:\n",
    "        max_replace = None\n",
    "\n",
    "    for i in range(len(result)):\n",
    "        if max_replace is not None and max_replace <= 0:\n",
    "            break\n",
    "        \n",
    "        if random.random() < add_prob:\n",
    "            # Add a random Spanish character\n",
    "            index = random.randint(0, len(result))\n",
    "            result.insert(index, random.choice(spanish_characters))\n",
    "            if max_replace is not None:\n",
    "                max_replace -= 1\n",
    "        \n",
    "        if random.random() < remove_prob and len(result) > 1:\n",
    "            # Remove a character\n",
    "            index = random.randint(0, len(result) - 1)\n",
    "            result.pop(index)\n",
    "            if max_replace is not None:\n",
    "                max_replace -= 1\n",
    "    \n",
    "    return ''.join(result)"
   ]
  },
  {
   "cell_type": "code",
   "execution_count": null,
   "id": "eb7e72c6-6165-48e0-bcef-c52d7e29f928",
   "metadata": {},
   "outputs": [],
   "source": [
    "augmented_df = gazetteer_df.copy()"
   ]
  },
  {
   "cell_type": "code",
   "execution_count": null,
   "id": "b369e936-56e4-4ba5-a9e3-07efff90d20f",
   "metadata": {},
   "outputs": [],
   "source": [
    "from tqdm.auto import tqdm\n",
    "\n",
    "def generate_rows(row):\n",
    "    global augmented_df\n",
    "    if str(row['code']) in codes_to_augment:\n",
    "        to_add = []\n",
    "        for j in range(5):\n",
    "            a_row = row.copy()\n",
    "            a_row['term'] = modify_string(row['term'], add_prob=0.2, remove_prob=0.2, max_replace_ratio=0.2)\n",
    "            to_add.append(a_row)\n",
    "        if to_add:\n",
    "            augmented_df = pd.concat([augmented_df, pd.DataFrame(to_add)], ignore_index=True)"
   ]
  },
  {
   "cell_type": "code",
   "execution_count": null,
   "id": "50fd734b-30fb-468b-903a-cbb2faa963f7",
   "metadata": {},
   "outputs": [],
   "source": [
    "tqdm.pandas()\n",
    "\n",
    "gazetteer_df.progress_apply(generate_rows, axis=1)"
   ]
  },
  {
   "cell_type": "code",
   "execution_count": null,
   "id": "008cc74d-bc1d-4ff1-be12-8d0d015a221d",
   "metadata": {},
   "outputs": [],
   "source": [
    "augmented_df['code'] = augmented_df['code'].transform(lambda v: str(v))"
   ]
  },
  {
   "cell_type": "code",
   "execution_count": null,
   "id": "9f18dcac-c04c-4f77-b65a-0262e5d117bd",
   "metadata": {},
   "outputs": [],
   "source": [
    "augmented_df[augmented_df['code'].isin(codes_to_augment)]['code'].value_counts()"
   ]
  },
  {
   "cell_type": "code",
   "execution_count": null,
   "id": "98b9cbcd-2e08-496b-8b7c-32829d54112e",
   "metadata": {},
   "outputs": [],
   "source": [
    "augmented_df[['code', 'term']].to_csv('ALL_gazetteer_augmented_all_codes_5_no_header.tsv', encoding='utf8', sep='\\t', header=None, index=False)"
   ]
  }
 ],
 "metadata": {
  "kernelspec": {
   "display_name": "Python 3 (ipykernel)",
   "language": "python",
   "name": "python3"
  },
  "language_info": {
   "codemirror_mode": {
    "name": "ipython",
    "version": 3
   },
   "file_extension": ".py",
   "mimetype": "text/x-python",
   "name": "python",
   "nbconvert_exporter": "python",
   "pygments_lexer": "ipython3",
   "version": "3.11.0"
  }
 },
 "nbformat": 4,
 "nbformat_minor": 5
}
