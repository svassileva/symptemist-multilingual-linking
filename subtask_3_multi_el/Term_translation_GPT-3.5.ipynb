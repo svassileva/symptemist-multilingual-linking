{
 "cells": [
  {
   "cell_type": "markdown",
   "id": "9a638d6a-66d3-494d-b1a9-5be7a937dc24",
   "metadata": {},
   "source": [
    "## Data"
   ]
  },
  {
   "cell_type": "code",
   "execution_count": 14,
   "id": "2ae3dc53-9cfd-4268-a016-4378fafe39bf",
   "metadata": {},
   "outputs": [],
   "source": [
    "import pandas as pd\n",
    "\n",
    "source_language = \"English\"\n",
    "\n",
    "# a TSV file with two columns - 'code' and 'term' (in the source language) is expected \n",
    "df = pd.read_csv('./sample_data/formatted_example_for_translation.tsv', sep='\\t', encoding='utf8', dtype=str, names=['code', 'term'])"
   ]
  },
  {
   "cell_type": "code",
   "execution_count": 15,
   "id": "ced8004c-2bb0-4df0-bfe8-cbb065796960",
   "metadata": {},
   "outputs": [
    {
     "data": {
      "text/html": [
       "<div>\n",
       "<style scoped>\n",
       "    .dataframe tbody tr th:only-of-type {\n",
       "        vertical-align: middle;\n",
       "    }\n",
       "\n",
       "    .dataframe tbody tr th {\n",
       "        vertical-align: top;\n",
       "    }\n",
       "\n",
       "    .dataframe thead th {\n",
       "        text-align: right;\n",
       "    }\n",
       "</style>\n",
       "<table border=\"1\" class=\"dataframe\">\n",
       "  <thead>\n",
       "    <tr style=\"text-align: right;\">\n",
       "      <th></th>\n",
       "      <th>code</th>\n",
       "      <th>term</th>\n",
       "    </tr>\n",
       "  </thead>\n",
       "  <tbody>\n",
       "    <tr>\n",
       "      <th>0</th>\n",
       "      <td>88400008</td>\n",
       "      <td>neoplastic cells</td>\n",
       "    </tr>\n",
       "    <tr>\n",
       "      <th>1</th>\n",
       "      <td>95550001</td>\n",
       "      <td>peritoneal thickening</td>\n",
       "    </tr>\n",
       "    <tr>\n",
       "      <th>2</th>\n",
       "      <td>135819008</td>\n",
       "      <td>very poor general condition</td>\n",
       "    </tr>\n",
       "    <tr>\n",
       "      <th>3</th>\n",
       "      <td>72885007</td>\n",
       "      <td>neutropenic</td>\n",
       "    </tr>\n",
       "    <tr>\n",
       "      <th>4</th>\n",
       "      <td>225581002</td>\n",
       "      <td>progressive loss of vision</td>\n",
       "    </tr>\n",
       "    <tr>\n",
       "      <th>5</th>\n",
       "      <td>231911000</td>\n",
       "      <td>superficial vascularisation</td>\n",
       "    </tr>\n",
       "  </tbody>\n",
       "</table>\n",
       "</div>"
      ],
      "text/plain": [
       "        code                         term\n",
       "0   88400008             neoplastic cells\n",
       "1   95550001        peritoneal thickening\n",
       "2  135819008  very poor general condition\n",
       "3   72885007                  neutropenic\n",
       "4  225581002   progressive loss of vision\n",
       "5  231911000  superficial vascularisation"
      ]
     },
     "execution_count": 15,
     "metadata": {},
     "output_type": "execute_result"
    }
   ],
   "source": [
    "df"
   ]
  },
  {
   "cell_type": "markdown",
   "id": "b66fac51-12d8-461c-9363-231768d7ff4a",
   "metadata": {},
   "source": [
    "## Translation"
   ]
  },
  {
   "cell_type": "code",
   "execution_count": null,
   "id": "3fc9db25-8408-4072-9db1-244ee7fd1e80",
   "metadata": {},
   "outputs": [],
   "source": [
    "from openai import OpenAI\n",
    "import getpass\n",
    "\n",
    "api_key = getpass.getpass('Enter your OpenAI API key:')\n",
    "\n",
    "model = 'gpt-3.5-turbo-0125'\n",
    "client = OpenAI(api_key=api_key)\n",
    "output_path = './'"
   ]
  },
  {
   "cell_type": "code",
   "execution_count": null,
   "id": "f39564d2-48db-433d-843e-ffd5aa8ca2f3",
   "metadata": {},
   "outputs": [],
   "source": [
    "def infer(messages):\n",
    " return client.chat.completions.create(\n",
    "      model=model,\n",
    "      messages=messages,\n",
    "      temperature=0.3,\n",
    "      max_tokens=4095,\n",
    "      top_p=1,\n",
    "      frequency_penalty=0,\n",
    "      presence_penalty=0\n",
    "    ).choices[0].message.content"
   ]
  },
  {
   "cell_type": "code",
   "execution_count": null,
   "id": "9d844319-c57a-4c2b-a206-3350c1b10168",
   "metadata": {},
   "outputs": [],
   "source": [
    "def format_user_message(message):\n",
    "    return {\n",
    "        'role': 'user',\n",
    "        'content': message\n",
    "    }"
   ]
  },
  {
   "cell_type": "code",
   "execution_count": null,
   "id": "62c661c4-db03-490c-b630-5c5fdfa4183f",
   "metadata": {},
   "outputs": [],
   "source": [
    "def get_prompt(source_term):    \n",
    "    return f\"\"\"You are the AI assistant of a medical doctor. Given a medical term in {source_language}, translate it into the corresponding Spanish medical term. Return only the translated Spanish term.\n",
    "```{source_term}```\"\"\""
   ]
  },
  {
   "cell_type": "code",
   "execution_count": null,
   "id": "b8c456a5-a5d6-4a51-af90-52dbe109b4c9",
   "metadata": {},
   "outputs": [],
   "source": [
    "print(get_prompt(f'Some {source_language} term'))"
   ]
  },
  {
   "cell_type": "code",
   "execution_count": null,
   "id": "ab7048ad-632f-4496-ac2e-14861791bf21",
   "metadata": {},
   "outputs": [],
   "source": [
    "def translate(source_term):\n",
    "    print(f'Translating {source_term}')\n",
    "    result = infer([format_user_message(get_prompt(source_term))])\n",
    "    return result.strip('`')"
   ]
  },
  {
   "cell_type": "code",
   "execution_count": null,
   "id": "c5a8775e-0913-4a95-b60c-21d946fd09d8",
   "metadata": {},
   "outputs": [],
   "source": [
    "df['translated_es'] = df['term'].transform(translate)"
   ]
  },
  {
   "cell_type": "code",
   "execution_count": null,
   "id": "539710dc-3626-45f3-be47-b1de93ef5d2c",
   "metadata": {},
   "outputs": [],
   "source": [
    "source_language_lower = source_language.lower()\n",
    "df.to_csv(f'symptemist_task3_{source_language_lower}_test_translated.tsv', sep='\\t', encoding='utf8', index=False)\n",
    "\n",
    "# formatted - ready to be processed by the cross-lingual SapBERT\n",
    "df[['code', 'translated_es']].to_csv(f'symptemist_task3_{source_language_lower}_test_translated_formatted.tsv', sep='\\t', encoding='utf8', header=False, index=False)"
   ]
  }
 ],
 "metadata": {
  "kernelspec": {
   "display_name": "Python 3 (ipykernel)",
   "language": "python",
   "name": "python3"
  },
  "language_info": {
   "codemirror_mode": {
    "name": "ipython",
    "version": 3
   },
   "file_extension": ".py",
   "mimetype": "text/x-python",
   "name": "python",
   "nbconvert_exporter": "python",
   "pygments_lexer": "ipython3",
   "version": "3.11.0"
  }
 },
 "nbformat": 4,
 "nbformat_minor": 5
}
