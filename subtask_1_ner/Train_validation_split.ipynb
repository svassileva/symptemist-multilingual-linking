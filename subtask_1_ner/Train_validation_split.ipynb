{
 "cells": [
  {
   "cell_type": "code",
   "execution_count": 1,
   "id": "4c01fd4c-a1a2-4d6a-ab6c-7505694370cf",
   "metadata": {},
   "outputs": [],
   "source": [
    "import os\n",
    "import pandas as pd"
   ]
  },
  {
   "cell_type": "code",
   "execution_count": 15,
   "id": "517c5038-792a-4ee3-8ada-f333ed688107",
   "metadata": {},
   "outputs": [],
   "source": [
    "annotations_path = \"path_to_dataset_split_into_sentences\"\n",
    "output_path = \"output_path\""
   ]
  },
  {
   "cell_type": "code",
   "execution_count": 16,
   "id": "8adf4d07-9f05-48ca-aaff-4c505a5a6aa3",
   "metadata": {},
   "outputs": [],
   "source": [
    "bin_short = []\n",
    "bin_medium = []\n",
    "bin_long = []\n",
    "\n",
    "for file_name in os.listdir(annotations_path):\n",
    "    if not file_name.endswith('.ann'):\n",
    "        continue\n",
    "    \n",
    "    annotations = pd.read_csv(f'{annotations_path}/{file_name}', sep='\\t', names=['ann_type', 'entity_type', 'text'], encoding='utf-8')\n",
    "    \n",
    "    annotations['start_pos'] = annotations['entity_type'].transform(lambda v: int(v.split()[1]))\n",
    "    annotations['end_pos'] = annotations['entity_type'].transform(lambda v: int(v.split()[2]))\n",
    "    annotations['entity_type'] = annotations['entity_type'].transform(lambda v: v.split()[0])\n",
    "    annotations['length'] = annotations.apply(lambda row: row['end_pos'] - row['start_pos'], axis=1)\n",
    "\n",
    "    file_name_no_ext = file_name.rstrip('.ann')\n",
    "    \n",
    "    if not annotations[annotations['length'] > 90].empty:\n",
    "        bin_long.append(file_name_no_ext)\n",
    "    elif not annotations[annotations['length'] >38].empty:\n",
    "        bin_medium.append(file_name_no_ext)\n",
    "    else:\n",
    "        bin_short.append(file_name_no_ext)"
   ]
  },
  {
   "cell_type": "code",
   "execution_count": 17,
   "id": "a3253062-6092-49cc-a956-3bfb5a2f5494",
   "metadata": {},
   "outputs": [],
   "source": [
    "import random\n",
    "\n",
    "def split_list(list, percent_to_select = 0.2):\n",
    "    num_to_select = int(len(list) * percent_to_select)\n",
    "\n",
    "    random_selection = random.sample(list, num_to_select)\n",
    "    rest = [element for element in list if element not in random_selection]\n",
    "\n",
    "    return random_selection, rest\n",
    "\n",
    "short_test, short_train = split_list(bin_short)\n",
    "medium_test, medium_train = split_list(bin_medium)\n",
    "long_test, long_train = split_list(bin_long)"
   ]
  },
  {
   "cell_type": "code",
   "execution_count": 18,
   "id": "1fdad403-3665-4c8b-9bca-5fecfc4839e2",
   "metadata": {},
   "outputs": [],
   "source": [
    "train = short_train + medium_train + long_train\n",
    "test = short_test + medium_test + long_test"
   ]
  },
  {
   "cell_type": "code",
   "execution_count": 19,
   "id": "e3afcf6c-14dd-4b50-9744-f01c0b650a3a",
   "metadata": {},
   "outputs": [
    {
     "data": {
      "text/plain": [
       "2416"
      ]
     },
     "execution_count": 19,
     "metadata": {},
     "output_type": "execute_result"
    }
   ],
   "source": [
    "len(train)"
   ]
  },
  {
   "cell_type": "code",
   "execution_count": 20,
   "id": "b9b02554-99d5-41e7-a3ae-23b9631336fa",
   "metadata": {},
   "outputs": [
    {
     "data": {
      "text/plain": [
       "603"
      ]
     },
     "execution_count": 20,
     "metadata": {},
     "output_type": "execute_result"
    }
   ],
   "source": [
    "len(test)"
   ]
  },
  {
   "cell_type": "code",
   "execution_count": 21,
   "id": "1687b375-b3e2-4c84-a523-ffba1a8f1695",
   "metadata": {},
   "outputs": [],
   "source": [
    "import shutil\n",
    "\n",
    "for file_name in os.listdir(annotations_path):\n",
    "    file_name_no_ext = file_name.split('.')[0]\n",
    "\n",
    "    if file_name_no_ext in test:\n",
    "        shutil.copy2(f'{annotations_path}/{file_name}', f'{output_path}/test')\n",
    "    else:\n",
    "        shutil.copy2(f'{annotations_path}/{file_name}', f'{output_path}/train')      "
   ]
  },
  {
   "cell_type": "code",
   "execution_count": 26,
   "id": "8ad15724-1815-46a8-993a-7fe4710c7389",
   "metadata": {},
   "outputs": [],
   "source": [
    "selected_train_file_names = list(os.listdir(f'{output_path}/train/'))\n",
    "selected_test_file_names = list(os.listdir(f'{output_path}/test/'))\n",
    "\n",
    "for file_name in os.listdir(annotations_path):\n",
    "    if file_name not in selected_train_file_names and file_name not in selected_test_file_names:\n",
    "        print(file_name)"
   ]
  }
 ],
 "metadata": {
  "kernelspec": {
   "display_name": "Python 3 (ipykernel)",
   "language": "python",
   "name": "python3"
  },
  "language_info": {
   "codemirror_mode": {
    "name": "ipython",
    "version": 3
   },
   "file_extension": ".py",
   "mimetype": "text/x-python",
   "name": "python",
   "nbconvert_exporter": "python",
   "pygments_lexer": "ipython3",
   "version": "3.11.0"
  }
 },
 "nbformat": 4,
 "nbformat_minor": 5
}
