{
 "cells": [
  {
   "cell_type": "code",
   "execution_count": 1,
   "id": "3d7d7625-44e5-4807-812a-894b4b471ec1",
   "metadata": {},
   "outputs": [],
   "source": [
    "import os\n",
    "import pandas as pd"
   ]
  },
  {
   "cell_type": "code",
   "execution_count": 9,
   "id": "9624851e-11c4-471b-9c2f-92726a6e33ff",
   "metadata": {},
   "outputs": [],
   "source": [
    "source_annotations_path = \".symptemist_train/subtask1-ner/txt/\"\n",
    "splits_path = \"path_to_dataset_split_into_sentences\""
   ]
  },
  {
   "cell_type": "code",
   "execution_count": 10,
   "id": "9ddfa184-1c82-4237-bece-fe15e7b92dc9",
   "metadata": {},
   "outputs": [],
   "source": [
    "splits_file_names = []\n",
    "start_offsets = []\n",
    "end_offsets = []\n",
    "\n",
    "for splits_file_name in os.listdir(splits_path):\n",
    "    if not splits_file_name.endswith(\".txt\"):\n",
    "        continue\n",
    "\n",
    "    source_file_name = f\"{splits_file_name.split('-b-')[0]}.txt\" # splits files naming: es-S0004-06142007000600016-2-b-3.txt\n",
    "    with open(f\"{source_annotations_path}{source_file_name}\", \"r\", encoding=\"utf-8\") as source_file:\n",
    "        with open(f\"{splits_path}{splits_file_name}\", \"r\", encoding=\"utf-8\") as splits_file:\n",
    "            source_content = source_file.read()\n",
    "            splits_content = splits_file.read().strip()\n",
    "            \n",
    "            splits_file_names.append(splits_file_name)\n",
    "\n",
    "            start_offset = source_content.find(splits_content)\n",
    "            if (start_offset < 0):\n",
    "                print(splits_file_name)\n",
    "            \n",
    "            start_offsets.append(start_offset)\n",
    "            end_offsets.append(start_offset + len(splits_content))"
   ]
  },
  {
   "cell_type": "code",
   "execution_count": 11,
   "id": "9b4928ac-1c95-464d-9642-664b1e053dda",
   "metadata": {},
   "outputs": [
    {
     "data": {
      "text/plain": [
       "11899"
      ]
     },
     "execution_count": 11,
     "metadata": {},
     "output_type": "execute_result"
    }
   ],
   "source": [
    "len(start_offsets)"
   ]
  },
  {
   "cell_type": "code",
   "execution_count": 12,
   "id": "afc184e8-3c5c-4eb5-8446-14e9e7835f2a",
   "metadata": {},
   "outputs": [
    {
     "data": {
      "text/plain": [
       "11899"
      ]
     },
     "execution_count": 12,
     "metadata": {},
     "output_type": "execute_result"
    }
   ],
   "source": [
    "len(splits_file_names)"
   ]
  },
  {
   "cell_type": "code",
   "execution_count": 13,
   "id": "4fcd0635-48db-4b15-8645-993e91383349",
   "metadata": {},
   "outputs": [],
   "source": [
    "df = pd.DataFrame(data={\"file_name\": splits_file_names, \"start_offset\": start_offsets, \"end_offset\": end_offsets})"
   ]
  },
  {
   "cell_type": "code",
   "execution_count": 16,
   "id": "fffb5517-f19e-4ff0-8469-5bef96b4153f",
   "metadata": {},
   "outputs": [
    {
     "data": {
      "text/html": [
       "<div>\n",
       "<style scoped>\n",
       "    .dataframe tbody tr th:only-of-type {\n",
       "        vertical-align: middle;\n",
       "    }\n",
       "\n",
       "    .dataframe tbody tr th {\n",
       "        vertical-align: top;\n",
       "    }\n",
       "\n",
       "    .dataframe thead th {\n",
       "        text-align: right;\n",
       "    }\n",
       "</style>\n",
       "<table border=\"1\" class=\"dataframe\">\n",
       "  <thead>\n",
       "    <tr style=\"text-align: right;\">\n",
       "      <th></th>\n",
       "      <th>file_name</th>\n",
       "      <th>start_offset</th>\n",
       "      <th>end_offset</th>\n",
       "    </tr>\n",
       "  </thead>\n",
       "  <tbody>\n",
       "    <tr>\n",
       "      <th>0</th>\n",
       "      <td>es-S0004-06142007000600016-2-b-2.txt</td>\n",
       "      <td>0</td>\n",
       "      <td>383</td>\n",
       "    </tr>\n",
       "    <tr>\n",
       "      <th>1</th>\n",
       "      <td>es-S0004-06142007000600016-2-b-3.txt</td>\n",
       "      <td>384</td>\n",
       "      <td>399</td>\n",
       "    </tr>\n",
       "    <tr>\n",
       "      <th>2</th>\n",
       "      <td>es-S0004-06142007000600016-2-b-4.txt</td>\n",
       "      <td>400</td>\n",
       "      <td>503</td>\n",
       "    </tr>\n",
       "    <tr>\n",
       "      <th>3</th>\n",
       "      <td>es-S0004-06142007000600016-2-b-5.txt</td>\n",
       "      <td>505</td>\n",
       "      <td>646</td>\n",
       "    </tr>\n",
       "    <tr>\n",
       "      <th>4</th>\n",
       "      <td>es-S0004-06142007000600016-2-b-6.txt</td>\n",
       "      <td>647</td>\n",
       "      <td>721</td>\n",
       "    </tr>\n",
       "    <tr>\n",
       "      <th>...</th>\n",
       "      <td>...</td>\n",
       "      <td>...</td>\n",
       "      <td>...</td>\n",
       "    </tr>\n",
       "    <tr>\n",
       "      <th>11894</th>\n",
       "      <td>S0004-06142007000600011-1-b-4.txt</td>\n",
       "      <td>208</td>\n",
       "      <td>254</td>\n",
       "    </tr>\n",
       "    <tr>\n",
       "      <th>11895</th>\n",
       "      <td>S0004-06142007000600011-1-b-5.txt</td>\n",
       "      <td>255</td>\n",
       "      <td>414</td>\n",
       "    </tr>\n",
       "    <tr>\n",
       "      <th>11896</th>\n",
       "      <td>S0004-06142007000600011-1-b-6.txt</td>\n",
       "      <td>416</td>\n",
       "      <td>517</td>\n",
       "    </tr>\n",
       "    <tr>\n",
       "      <th>11897</th>\n",
       "      <td>S0004-06142007000600011-1-b-7.txt</td>\n",
       "      <td>518</td>\n",
       "      <td>599</td>\n",
       "    </tr>\n",
       "    <tr>\n",
       "      <th>11898</th>\n",
       "      <td>S0004-06142007000600011-1-b-8.txt</td>\n",
       "      <td>601</td>\n",
       "      <td>732</td>\n",
       "    </tr>\n",
       "  </tbody>\n",
       "</table>\n",
       "<p>11899 rows × 3 columns</p>\n",
       "</div>"
      ],
      "text/plain": [
       "                                  file_name  start_offset  end_offset\n",
       "0      es-S0004-06142007000600016-2-b-2.txt             0         383\n",
       "1      es-S0004-06142007000600016-2-b-3.txt           384         399\n",
       "2      es-S0004-06142007000600016-2-b-4.txt           400         503\n",
       "3      es-S0004-06142007000600016-2-b-5.txt           505         646\n",
       "4      es-S0004-06142007000600016-2-b-6.txt           647         721\n",
       "...                                     ...           ...         ...\n",
       "11894     S0004-06142007000600011-1-b-4.txt           208         254\n",
       "11895     S0004-06142007000600011-1-b-5.txt           255         414\n",
       "11896     S0004-06142007000600011-1-b-6.txt           416         517\n",
       "11897     S0004-06142007000600011-1-b-7.txt           518         599\n",
       "11898     S0004-06142007000600011-1-b-8.txt           601         732\n",
       "\n",
       "[11899 rows x 3 columns]"
      ]
     },
     "execution_count": 16,
     "metadata": {},
     "output_type": "execute_result"
    }
   ],
   "source": [
    "df"
   ]
  },
  {
   "cell_type": "code",
   "execution_count": 15,
   "id": "9fb35f5c-2b42-4536-b013-e403a032bfb1",
   "metadata": {},
   "outputs": [],
   "source": [
    "df.to_csv(\"sentence_offsets_v4.csv\", index=False)"
   ]
  }
 ],
 "metadata": {
  "kernelspec": {
   "display_name": "Python 3 (ipykernel)",
   "language": "python",
   "name": "python3"
  },
  "language_info": {
   "codemirror_mode": {
    "name": "ipython",
    "version": 3
   },
   "file_extension": ".py",
   "mimetype": "text/x-python",
   "name": "python",
   "nbconvert_exporter": "python",
   "pygments_lexer": "ipython3",
   "version": "3.11.0"
  }
 },
 "nbformat": 4,
 "nbformat_minor": 5
}
